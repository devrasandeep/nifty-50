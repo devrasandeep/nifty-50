{
 "cells": [
  {
   "cell_type": "code",
   "execution_count": 33,
   "id": "83bd959d",
   "metadata": {},
   "outputs": [
    {
     "name": "stdout",
     "output_type": "stream",
     "text": [
      "[*********************100%***********************]  1 of 1 completed\n",
      "\n",
      "1 Failed download:\n",
      "- WIPRO: No timezone found, symbol may be delisted\n"
     ]
    }
   ],
   "source": [
    "import yfinance as yf\n",
    "import pandas as pd\n",
    "\n",
    "class Stock:\n",
    "    def __init__(self, symbol, start_date, end_date):\n",
    "        self.symbol = symbol\n",
    "        self.start_date = start_date\n",
    "        self.end_date = end_date\n",
    "        self.historical_prices = self.get_historical_prices()\n",
    "\n",
    "    def get_historical_prices(self):\n",
    "        data = yf.download(self.symbol, start=self.start_date, end=self.end_date)['Adj Close']\n",
    "        return data\n",
    "\n",
    "    def cur_price(self, cur_date):\n",
    "        return self.historical_prices.loc[cur_date, 'Adj Close']\n",
    "\n",
    "    def n_day_ret(self, n, cur_date):\n",
    "        start_date = pd.to_datetime(cur_date) - pd.DateOffset(days=n)\n",
    "        end_date = pd.to_datetime(cur_date)\n",
    "        return (self.historical_prices.loc[end_date, 'Adj Close'] /\n",
    "                self.historical_prices.loc[start_date, 'Adj Close'] - 1) * 100\n",
    "\n",
    "    def daily_ret(self, cur_date):\n",
    "        return self.historical_prices.pct_change().loc[cur_date, 'Adj Close'] * 100\n",
    "\n",
    "    def last_30_days_price(self, cur_date):\n",
    "        end_date = pd.to_datetime(cur_date)\n",
    "        start_date = end_date - pd.DateOffset(days=30)\n",
    "        return self.historical_prices.loc[start_date:end_date, 'Adj Close'].values\n",
    "\n",
    "# Example Usage\n",
    "stock_symbol = 'WIPRO'\n",
    "start_date = '2022-01-01'\n",
    "end_date = '2022-12-31'\n",
    "apple_stock = Stock(stock_symbol, start_date, end_date)\n"
   ]
  },
  {
   "cell_type": "code",
   "execution_count": 34,
   "id": "2e6cf28a",
   "metadata": {},
   "outputs": [
    {
     "name": "stdout",
     "output_type": "stream",
     "text": [
      "[*********************100%***********************]  1 of 1 completed\n",
      "[*********************100%***********************]  1 of 1 completed\n",
      "[*********************100%***********************]  1 of 1 completed\n",
      "[*********************100%***********************]  1 of 1 completed\n",
      "\n",
      "1 Failed download:\n",
      "- I: No timezone found, symbol may be delisted\n",
      "[*********************100%***********************]  1 of 1 completed\n",
      "[*********************100%***********************]  1 of 1 completed\n",
      "\n",
      "1 Failed download:\n",
      "- N: No data found for this date range, symbol may be delisted\n",
      "[*********************100%***********************]  1 of 1 completed\n",
      "[*********************100%***********************]  1 of 1 completed\n"
     ]
    },
    {
     "ename": "IndexingError",
     "evalue": "Too many indexers",
     "output_type": "error",
     "traceback": [
      "\u001b[1;31m---------------------------------------------------------------------------\u001b[0m",
      "\u001b[1;31mIndexingError\u001b[0m                             Traceback (most recent call last)",
      "Cell \u001b[1;32mIn[34], line 16\u001b[0m\n\u001b[0;32m     14\u001b[0m nifty50_stocks \u001b[38;5;241m=\u001b[39m [Stock(symbol, start_date, end_date) \u001b[38;5;28;01mfor\u001b[39;00m symbol \u001b[38;5;129;01min\u001b[39;00m nifty50_symbols]\n\u001b[0;32m     15\u001b[0m active_selection_strategy \u001b[38;5;241m=\u001b[39m ActiveStockSelection(nifty50_stocks)\n\u001b[1;32m---> 16\u001b[0m selected_portfolio \u001b[38;5;241m=\u001b[39m active_selection_strategy\u001b[38;5;241m.\u001b[39mselect_portfolio(\u001b[38;5;124m'\u001b[39m\u001b[38;5;124m2023-01-31\u001b[39m\u001b[38;5;124m'\u001b[39m)\n\u001b[0;32m     17\u001b[0m \u001b[38;5;28mprint\u001b[39m(\u001b[38;5;124m\"\u001b[39m\u001b[38;5;124mSelected Portfolio:\u001b[39m\u001b[38;5;124m\"\u001b[39m, selected_portfolio)\n",
      "Cell \u001b[1;32mIn[34], line 8\u001b[0m, in \u001b[0;36mActiveStockSelection.select_portfolio\u001b[1;34m(self, cur_date)\u001b[0m\n\u001b[0;32m      6\u001b[0m selected_stocks \u001b[38;5;241m=\u001b[39m []\n\u001b[0;32m      7\u001b[0m \u001b[38;5;28;01mfor\u001b[39;00m stock \u001b[38;5;129;01min\u001b[39;00m \u001b[38;5;28mself\u001b[39m\u001b[38;5;241m.\u001b[39mstocks:\n\u001b[1;32m----> 8\u001b[0m     \u001b[38;5;28;01mif\u001b[39;00m stock\u001b[38;5;241m.\u001b[39mn_day_ret(\u001b[38;5;241m30\u001b[39m, cur_date) \u001b[38;5;241m>\u001b[39m \u001b[38;5;241m0\u001b[39m:\n\u001b[0;32m      9\u001b[0m         selected_stocks\u001b[38;5;241m.\u001b[39mappend(stock\u001b[38;5;241m.\u001b[39msymbol)\n\u001b[0;32m     10\u001b[0m \u001b[38;5;28;01mreturn\u001b[39;00m selected_stocks\n",
      "Cell \u001b[1;32mIn[33], line 21\u001b[0m, in \u001b[0;36mStock.n_day_ret\u001b[1;34m(self, n, cur_date)\u001b[0m\n\u001b[0;32m     19\u001b[0m start_date \u001b[38;5;241m=\u001b[39m pd\u001b[38;5;241m.\u001b[39mto_datetime(cur_date) \u001b[38;5;241m-\u001b[39m pd\u001b[38;5;241m.\u001b[39mDateOffset(days\u001b[38;5;241m=\u001b[39mn)\n\u001b[0;32m     20\u001b[0m end_date \u001b[38;5;241m=\u001b[39m pd\u001b[38;5;241m.\u001b[39mto_datetime(cur_date)\n\u001b[1;32m---> 21\u001b[0m \u001b[38;5;28;01mreturn\u001b[39;00m (\u001b[38;5;28mself\u001b[39m\u001b[38;5;241m.\u001b[39mhistorical_prices\u001b[38;5;241m.\u001b[39mloc[end_date, \u001b[38;5;124m'\u001b[39m\u001b[38;5;124mAdj Close\u001b[39m\u001b[38;5;124m'\u001b[39m] \u001b[38;5;241m/\u001b[39m\n\u001b[0;32m     22\u001b[0m         \u001b[38;5;28mself\u001b[39m\u001b[38;5;241m.\u001b[39mhistorical_prices\u001b[38;5;241m.\u001b[39mloc[start_date, \u001b[38;5;124m'\u001b[39m\u001b[38;5;124mAdj Close\u001b[39m\u001b[38;5;124m'\u001b[39m] \u001b[38;5;241m-\u001b[39m \u001b[38;5;241m1\u001b[39m) \u001b[38;5;241m*\u001b[39m \u001b[38;5;241m100\u001b[39m\n",
      "File \u001b[1;32mD:\\Python\\Lib\\site-packages\\pandas\\core\\indexing.py:1067\u001b[0m, in \u001b[0;36m_LocationIndexer.__getitem__\u001b[1;34m(self, key)\u001b[0m\n\u001b[0;32m   1065\u001b[0m     \u001b[38;5;28;01mif\u001b[39;00m \u001b[38;5;28mself\u001b[39m\u001b[38;5;241m.\u001b[39m_is_scalar_access(key):\n\u001b[0;32m   1066\u001b[0m         \u001b[38;5;28;01mreturn\u001b[39;00m \u001b[38;5;28mself\u001b[39m\u001b[38;5;241m.\u001b[39mobj\u001b[38;5;241m.\u001b[39m_get_value(\u001b[38;5;241m*\u001b[39mkey, takeable\u001b[38;5;241m=\u001b[39m\u001b[38;5;28mself\u001b[39m\u001b[38;5;241m.\u001b[39m_takeable)\n\u001b[1;32m-> 1067\u001b[0m     \u001b[38;5;28;01mreturn\u001b[39;00m \u001b[38;5;28mself\u001b[39m\u001b[38;5;241m.\u001b[39m_getitem_tuple(key)\n\u001b[0;32m   1068\u001b[0m \u001b[38;5;28;01melse\u001b[39;00m:\n\u001b[0;32m   1069\u001b[0m     \u001b[38;5;66;03m# we by definition only have the 0th axis\u001b[39;00m\n\u001b[0;32m   1070\u001b[0m     axis \u001b[38;5;241m=\u001b[39m \u001b[38;5;28mself\u001b[39m\u001b[38;5;241m.\u001b[39maxis \u001b[38;5;129;01mor\u001b[39;00m \u001b[38;5;241m0\u001b[39m\n",
      "File \u001b[1;32mD:\\Python\\Lib\\site-packages\\pandas\\core\\indexing.py:1250\u001b[0m, in \u001b[0;36m_LocIndexer._getitem_tuple\u001b[1;34m(self, tup)\u001b[0m\n\u001b[0;32m   1247\u001b[0m     \u001b[38;5;28;01mreturn\u001b[39;00m \u001b[38;5;28mself\u001b[39m\u001b[38;5;241m.\u001b[39m_getitem_lowerdim(tup)\n\u001b[0;32m   1249\u001b[0m \u001b[38;5;66;03m# no multi-index, so validate all of the indexers\u001b[39;00m\n\u001b[1;32m-> 1250\u001b[0m tup \u001b[38;5;241m=\u001b[39m \u001b[38;5;28mself\u001b[39m\u001b[38;5;241m.\u001b[39m_validate_tuple_indexer(tup)\n\u001b[0;32m   1252\u001b[0m \u001b[38;5;66;03m# ugly hack for GH #836\u001b[39;00m\n\u001b[0;32m   1253\u001b[0m \u001b[38;5;28;01mif\u001b[39;00m \u001b[38;5;28mself\u001b[39m\u001b[38;5;241m.\u001b[39m_multi_take_opportunity(tup):\n",
      "File \u001b[1;32mD:\\Python\\Lib\\site-packages\\pandas\\core\\indexing.py:869\u001b[0m, in \u001b[0;36m_LocationIndexer._validate_tuple_indexer\u001b[1;34m(self, key)\u001b[0m\n\u001b[0;32m    864\u001b[0m \u001b[38;5;129m@final\u001b[39m\n\u001b[0;32m    865\u001b[0m \u001b[38;5;28;01mdef\u001b[39;00m \u001b[38;5;21m_validate_tuple_indexer\u001b[39m(\u001b[38;5;28mself\u001b[39m, key: \u001b[38;5;28mtuple\u001b[39m) \u001b[38;5;241m-\u001b[39m\u001b[38;5;241m>\u001b[39m \u001b[38;5;28mtuple\u001b[39m:\n\u001b[0;32m    866\u001b[0m \u001b[38;5;250m    \u001b[39m\u001b[38;5;124;03m\"\"\"\u001b[39;00m\n\u001b[0;32m    867\u001b[0m \u001b[38;5;124;03m    Check the key for valid keys across my indexer.\u001b[39;00m\n\u001b[0;32m    868\u001b[0m \u001b[38;5;124;03m    \"\"\"\u001b[39;00m\n\u001b[1;32m--> 869\u001b[0m     key \u001b[38;5;241m=\u001b[39m \u001b[38;5;28mself\u001b[39m\u001b[38;5;241m.\u001b[39m_validate_key_length(key)\n\u001b[0;32m    870\u001b[0m     key \u001b[38;5;241m=\u001b[39m \u001b[38;5;28mself\u001b[39m\u001b[38;5;241m.\u001b[39m_expand_ellipsis(key)\n\u001b[0;32m    871\u001b[0m     \u001b[38;5;28;01mfor\u001b[39;00m i, k \u001b[38;5;129;01min\u001b[39;00m \u001b[38;5;28menumerate\u001b[39m(key):\n",
      "File \u001b[1;32mD:\\Python\\Lib\\site-packages\\pandas\\core\\indexing.py:908\u001b[0m, in \u001b[0;36m_LocationIndexer._validate_key_length\u001b[1;34m(self, key)\u001b[0m\n\u001b[0;32m    906\u001b[0m             \u001b[38;5;28;01mraise\u001b[39;00m IndexingError(_one_ellipsis_message)\n\u001b[0;32m    907\u001b[0m         \u001b[38;5;28;01mreturn\u001b[39;00m \u001b[38;5;28mself\u001b[39m\u001b[38;5;241m.\u001b[39m_validate_key_length(key)\n\u001b[1;32m--> 908\u001b[0m     \u001b[38;5;28;01mraise\u001b[39;00m IndexingError(\u001b[38;5;124m\"\u001b[39m\u001b[38;5;124mToo many indexers\u001b[39m\u001b[38;5;124m\"\u001b[39m)\n\u001b[0;32m    909\u001b[0m \u001b[38;5;28;01mreturn\u001b[39;00m key\n",
      "\u001b[1;31mIndexingError\u001b[0m: Too many indexers"
     ]
    }
   ],
   "source": [
    "class ActiveStockSelection:\n",
    "    def __init__(self, stocks):\n",
    "        self.stocks = stocks\n",
    "\n",
    "    def select_portfolio(self, cur_date):\n",
    "        selected_stocks = []\n",
    "        for stock in self.stocks:\n",
    "            if stock.n_day_ret(30, cur_date) > 0:\n",
    "                selected_stocks.append(stock.symbol)\n",
    "        return selected_stocks\n",
    "\n",
    "# Example Usage\n",
    "nifty50_symbols = 'RELIANCE'  # Add all Nifty 50 symbols\n",
    "nifty50_stocks = [Stock(symbol, start_date, end_date) for symbol in nifty50_symbols]\n",
    "active_selection_strategy = ActiveStockSelection(nifty50_stocks)\n",
    "selected_portfolio = active_selection_strategy.select_portfolio('2023-01-31')\n",
    "print(\"Selected Portfolio:\", selected_portfolio)\n"
   ]
  },
  {
   "cell_type": "code",
   "execution_count": 27,
   "id": "122aebb9",
   "metadata": {},
   "outputs": [
    {
     "name": "stdout",
     "output_type": "stream",
     "text": [
      "[*********************100%***********************]  1 of 1 completed\n",
      "\n",
      "1 Failed download:\n",
      "- NIFTY50: No timezone found, symbol may be delisted\n"
     ]
    },
    {
     "ename": "IndexError",
     "evalue": "index -1 is out of bounds for axis 0 with size 0",
     "output_type": "error",
     "traceback": [
      "\u001b[1;31m---------------------------------------------------------------------------\u001b[0m",
      "\u001b[1;31mIndexError\u001b[0m                                Traceback (most recent call last)",
      "Cell \u001b[1;32mIn[27], line 45\u001b[0m\n\u001b[0;32m     43\u001b[0m benchmark_stock \u001b[38;5;241m=\u001b[39m Stock(benchmark_symbol, start_date, end_date)\n\u001b[0;32m     44\u001b[0m performance_metrics \u001b[38;5;241m=\u001b[39m PerformanceMetrics(benchmark_stock, nifty50_stocks, start_date, end_date)\n\u001b[1;32m---> 45\u001b[0m metrics_result \u001b[38;5;241m=\u001b[39m performance_metrics\u001b[38;5;241m.\u001b[39mget_performance_metrics()\n\u001b[0;32m     46\u001b[0m \u001b[38;5;28mprint\u001b[39m(\u001b[38;5;124m\"\u001b[39m\u001b[38;5;124mPerformance Metrics:\u001b[39m\u001b[38;5;124m\"\u001b[39m, metrics_result)\n",
      "Cell \u001b[1;32mIn[27], line 24\u001b[0m, in \u001b[0;36mPerformanceMetrics.get_performance_metrics\u001b[1;34m(self)\u001b[0m\n\u001b[0;32m     21\u001b[0m \u001b[38;5;28;01mfor\u001b[39;00m stock \u001b[38;5;129;01min\u001b[39;00m \u001b[38;5;28mself\u001b[39m\u001b[38;5;241m.\u001b[39mportfolio:\n\u001b[0;32m     22\u001b[0m     portfolio_returns[stock\u001b[38;5;241m.\u001b[39msymbol] \u001b[38;5;241m=\u001b[39m stock\u001b[38;5;241m.\u001b[39mhistorical_prices\u001b[38;5;241m.\u001b[39mpct_change()\u001b[38;5;241m.\u001b[39mdropna()\n\u001b[1;32m---> 24\u001b[0m cagr_benchmark \u001b[38;5;241m=\u001b[39m \u001b[38;5;28mself\u001b[39m\u001b[38;5;241m.\u001b[39mcalculate_cagr(\u001b[38;5;28mself\u001b[39m\u001b[38;5;241m.\u001b[39mbenchmark\u001b[38;5;241m.\u001b[39mhistorical_prices)\n\u001b[0;32m     25\u001b[0m volatility_benchmark \u001b[38;5;241m=\u001b[39m \u001b[38;5;28mself\u001b[39m\u001b[38;5;241m.\u001b[39mcalculate_volatility(benchmark_returns)\n\u001b[0;32m     26\u001b[0m sharpe_ratio_benchmark \u001b[38;5;241m=\u001b[39m \u001b[38;5;28mself\u001b[39m\u001b[38;5;241m.\u001b[39mcalculate_sharpe_ratio(benchmark_returns)\n",
      "Cell \u001b[1;32mIn[27], line 9\u001b[0m, in \u001b[0;36mPerformanceMetrics.calculate_cagr\u001b[1;34m(self, values)\u001b[0m\n\u001b[0;32m      8\u001b[0m \u001b[38;5;28;01mdef\u001b[39;00m \u001b[38;5;21mcalculate_cagr\u001b[39m(\u001b[38;5;28mself\u001b[39m, values):\n\u001b[1;32m----> 9\u001b[0m     \u001b[38;5;28;01mreturn\u001b[39;00m ((values[\u001b[38;5;241m-\u001b[39m\u001b[38;5;241m1\u001b[39m] \u001b[38;5;241m/\u001b[39m values[\u001b[38;5;241m0\u001b[39m]) \u001b[38;5;241m*\u001b[39m\u001b[38;5;241m*\u001b[39m (\u001b[38;5;241m1\u001b[39m \u001b[38;5;241m/\u001b[39m \u001b[38;5;28mlen\u001b[39m(values\u001b[38;5;241m.\u001b[39mindex\u001b[38;5;241m.\u001b[39myear\u001b[38;5;241m.\u001b[39munique())) \u001b[38;5;241m-\u001b[39m \u001b[38;5;241m1\u001b[39m) \u001b[38;5;241m*\u001b[39m \u001b[38;5;241m100\u001b[39m\n",
      "File \u001b[1;32mD:\\Python\\Lib\\site-packages\\pandas\\core\\series.py:978\u001b[0m, in \u001b[0;36mSeries.__getitem__\u001b[1;34m(self, key)\u001b[0m\n\u001b[0;32m    975\u001b[0m     key \u001b[38;5;241m=\u001b[39m unpack_1tuple(key)\n\u001b[0;32m    977\u001b[0m \u001b[38;5;28;01mif\u001b[39;00m is_integer(key) \u001b[38;5;129;01mand\u001b[39;00m \u001b[38;5;28mself\u001b[39m\u001b[38;5;241m.\u001b[39mindex\u001b[38;5;241m.\u001b[39m_should_fallback_to_positional:\n\u001b[1;32m--> 978\u001b[0m     \u001b[38;5;28;01mreturn\u001b[39;00m \u001b[38;5;28mself\u001b[39m\u001b[38;5;241m.\u001b[39m_values[key]\n\u001b[0;32m    980\u001b[0m \u001b[38;5;28;01melif\u001b[39;00m key_is_scalar:\n\u001b[0;32m    981\u001b[0m     \u001b[38;5;28;01mreturn\u001b[39;00m \u001b[38;5;28mself\u001b[39m\u001b[38;5;241m.\u001b[39m_get_value(key)\n",
      "\u001b[1;31mIndexError\u001b[0m: index -1 is out of bounds for axis 0 with size 0"
     ]
    }
   ],
   "source": [
    "class PerformanceMetrics:\n",
    "    def __init__(self, benchmark, portfolio, start_date, end_date):\n",
    "        self.benchmark = benchmark\n",
    "        self.portfolio = portfolio\n",
    "        self.start_date = start_date\n",
    "        self.end_date = end_date\n",
    "\n",
    "    def calculate_cagr(self, values):\n",
    "        return ((values[-1] / values[0]) ** (1 / len(values.index.year.unique())) - 1) * 100\n",
    "\n",
    "    def calculate_volatility(self, daily_returns):\n",
    "        return (daily_returns.std() * (252 ** 0.5)).values[0]\n",
    "\n",
    "    def calculate_sharpe_ratio(self, daily_returns):\n",
    "        return (daily_returns.mean() / daily_returns.std() * (252 ** 0.5)).values[0]\n",
    "\n",
    "    def get_performance_metrics(self):\n",
    "        benchmark_returns = self.benchmark.historical_prices.pct_change().dropna()\n",
    "        portfolio_returns = pd.DataFrame(index=benchmark_returns.index)\n",
    "\n",
    "        for stock in self.portfolio:\n",
    "            portfolio_returns[stock.symbol] = stock.historical_prices.pct_change().dropna()\n",
    "\n",
    "        cagr_benchmark = self.calculate_cagr(self.benchmark.historical_prices)\n",
    "        volatility_benchmark = self.calculate_volatility(benchmark_returns)\n",
    "        sharpe_ratio_benchmark = self.calculate_sharpe_ratio(benchmark_returns)\n",
    "\n",
    "        cagr_portfolio = self.calculate_cagr(portfolio_returns.sum(axis=1) + 1)\n",
    "        volatility_portfolio = self.calculate_volatility(portfolio_returns.sum(axis=1))\n",
    "        sharpe_ratio_portfolio = self.calculate_sharpe_ratio(portfolio_returns.sum(axis=1))\n",
    "\n",
    "        return {\n",
    "            'CAGR_Benchmark': cagr_benchmark,\n",
    "            'Volatility_Benchmark': volatility_benchmark,\n",
    "            'Sharpe_Ratio_Benchmark': sharpe_ratio_benchmark,\n",
    "            'CAGR_Portfolio': cagr_portfolio,\n",
    "            'Volatility_Portfolio': volatility_portfolio,\n",
    "            'Sharpe_Ratio_Portfolio': sharpe_ratio_portfolio\n",
    "        }\n",
    "\n",
    "# Example Usage\n",
    "benchmark_symbol = 'NIFTY50'\n",
    "benchmark_stock = Stock(benchmark_symbol, start_date, end_date)\n",
    "performance_metrics = PerformanceMetrics(benchmark_stock, nifty50_stocks, start_date, end_date)\n",
    "metrics_result = performance_metrics.get_performance_metrics()\n",
    "print(\"Performance Metrics:\", metrics_result)\n"
   ]
  },
  {
   "cell_type": "code",
   "execution_count": 35,
   "id": "7af58df0",
   "metadata": {},
   "outputs": [
    {
     "data": {
      "text/html": [
       "\n",
       "        <iframe\n",
       "            width=\"100%\"\n",
       "            height=\"650\"\n",
       "            src=\"http://127.0.0.1:8050/\"\n",
       "            frameborder=\"0\"\n",
       "            allowfullscreen\n",
       "            \n",
       "        ></iframe>\n",
       "        "
      ],
      "text/plain": [
       "<IPython.lib.display.IFrame at 0x1c98e558190>"
      ]
     },
     "metadata": {},
     "output_type": "display_data"
    },
    {
     "name": "stdout",
     "output_type": "stream",
     "text": [
      "\u001b[1;31m---------------------------------------------------------------------------\u001b[0m\n",
      "\u001b[1;31mIndexError\u001b[0m                                Traceback (most recent call last)\n",
      "Cell \u001b[1;32mIn[27], line 24\u001b[0m, in \u001b[0;36mPerformanceMetrics.get_performance_metrics\u001b[1;34m(\n",
      "    self=<__main__.PerformanceMetrics object>\n",
      ")\u001b[0m\n",
      "\u001b[0;32m     21\u001b[0m \u001b[38;5;28;01mfor\u001b[39;00m stock \u001b[38;5;129;01min\u001b[39;00m \u001b[38;5;28mself\u001b[39m\u001b[38;5;241m.\u001b[39mportfolio:\n",
      "\u001b[0;32m     22\u001b[0m     portfolio_returns[stock\u001b[38;5;241m.\u001b[39msymbol] \u001b[38;5;241m=\u001b[39m stock\u001b[38;5;241m.\u001b[39mhistorical_prices\u001b[38;5;241m.\u001b[39mpct_change()\u001b[38;5;241m.\u001b[39mdropna()\n",
      "\u001b[1;32m---> 24\u001b[0m cagr_benchmark \u001b[38;5;241m=\u001b[39m \u001b[38;5;28mself\u001b[39m\u001b[38;5;241m.\u001b[39mcalculate_cagr(\u001b[38;5;28mself\u001b[39m\u001b[38;5;241m.\u001b[39mbenchmark\u001b[38;5;241m.\u001b[39mhistorical_prices)\n",
      "        self \u001b[1;34m= <__main__.PerformanceMetrics object at 0x000001C9926ACED0>\u001b[0m\u001b[1;34m\n",
      "        \u001b[0mself.benchmark.historical_prices \u001b[1;34m= Series([], Name: Adj Close, dtype: float64)\u001b[0m\u001b[1;34m\n",
      "        \u001b[0mself.benchmark \u001b[1;34m= <__main__.Stock object at 0x000001C98F771290>\u001b[0m\n",
      "\u001b[0;32m     25\u001b[0m volatility_benchmark \u001b[38;5;241m=\u001b[39m \u001b[38;5;28mself\u001b[39m\u001b[38;5;241m.\u001b[39mcalculate_volatility(benchmark_returns)\n",
      "\u001b[0;32m     26\u001b[0m sharpe_ratio_benchmark \u001b[38;5;241m=\u001b[39m \u001b[38;5;28mself\u001b[39m\u001b[38;5;241m.\u001b[39mcalculate_sharpe_ratio(benchmark_returns)\n",
      "\n",
      "Cell \u001b[1;32mIn[27], line 9\u001b[0m, in \u001b[0;36mPerformanceMetrics.calculate_cagr\u001b[1;34m(\n",
      "    self=<__main__.PerformanceMetrics object>,\n",
      "    values=Series([], Name: Adj Close, dtype: float64)\n",
      ")\u001b[0m\n",
      "\u001b[0;32m      8\u001b[0m \u001b[38;5;28;01mdef\u001b[39;00m \u001b[38;5;21mcalculate_cagr\u001b[39m(\u001b[38;5;28mself\u001b[39m, values):\n",
      "\u001b[1;32m----> 9\u001b[0m     \u001b[38;5;28;01mreturn\u001b[39;00m ((values[\u001b[38;5;241m-\u001b[39m\u001b[38;5;241m1\u001b[39m] \u001b[38;5;241m/\u001b[39m values[\u001b[38;5;241m0\u001b[39m]) \u001b[38;5;241m*\u001b[39m\u001b[38;5;241m*\u001b[39m (\u001b[38;5;241m1\u001b[39m \u001b[38;5;241m/\u001b[39m \u001b[38;5;28mlen\u001b[39m(values\u001b[38;5;241m.\u001b[39mindex\u001b[38;5;241m.\u001b[39myear\u001b[38;5;241m.\u001b[39munique())) \u001b[38;5;241m-\u001b[39m \u001b[38;5;241m1\u001b[39m) \u001b[38;5;241m*\u001b[39m \u001b[38;5;241m100\u001b[39m\n",
      "        values \u001b[1;34m= Series([], Name: Adj Close, dtype: float64)\u001b[0m\n",
      "\n",
      "File \u001b[1;32mD:\\Python\\Lib\\site-packages\\pandas\\core\\series.py:978\u001b[0m, in \u001b[0;36mSeries.__getitem__\u001b[1;34m(\n",
      "    self=Series([], Name: Adj Close, dtype: float64),\n",
      "    key=-1\n",
      ")\u001b[0m\n",
      "\u001b[0;32m    975\u001b[0m     key \u001b[38;5;241m=\u001b[39m unpack_1tuple(key)\n",
      "\u001b[0;32m    977\u001b[0m \u001b[38;5;28;01mif\u001b[39;00m is_integer(key) \u001b[38;5;129;01mand\u001b[39;00m \u001b[38;5;28mself\u001b[39m\u001b[38;5;241m.\u001b[39mindex\u001b[38;5;241m.\u001b[39m_should_fallback_to_positional:\n",
      "\u001b[1;32m--> 978\u001b[0m     \u001b[38;5;28;01mreturn\u001b[39;00m \u001b[38;5;28mself\u001b[39m\u001b[38;5;241m.\u001b[39m_values[key]\n",
      "        key \u001b[1;34m= -1\u001b[0m\u001b[1;34m\n",
      "        \u001b[0mself \u001b[1;34m= Series([], Name: Adj Close, dtype: float64)\u001b[0m\n",
      "\u001b[0;32m    980\u001b[0m \u001b[38;5;28;01melif\u001b[39;00m key_is_scalar:\n",
      "\u001b[0;32m    981\u001b[0m     \u001b[38;5;28;01mreturn\u001b[39;00m \u001b[38;5;28mself\u001b[39m\u001b[38;5;241m.\u001b[39m_get_value(key)\n",
      "\n",
      "\u001b[1;31mIndexError\u001b[0m: index -1 is out of bounds for axis 0 with size 0\n",
      "\n"
     ]
    }
   ],
   "source": [
    "import dash\n",
    "from dash import dcc, html\n",
    "\n",
    "# Assume you have the performance_metrics object from the previous step\n",
    "\n",
    "app = dash.Dash(__name__)\n",
    "\n",
    "app.layout = html.Div([\n",
    "    html.H1(\"Stock Selection Strategy Performance\"),\n",
    "    \n",
    "    dcc.DatePickerRange(\n",
    "        id='date-picker',\n",
    "        start_date=start_date,\n",
    "        end_date=end_date\n",
    "    ),\n",
    "\n",
    "    dcc.Graph(id='performance-chart')\n",
    "])\n",
    "\n",
    "@app.callback(\n",
    "    dash.dependencies.Output('performance-chart', 'figure'),\n",
    "    [dash.dependencies.Input('date-picker', 'start_date'),\n",
    "     dash.dependencies.Input('date-picker', 'end_date')]\n",
    ")\n",
    "def update_performance_chart(start_date, end_date):\n",
    "    performance_metrics = PerformanceMetrics(benchmark_stock, nifty50_stocks, start_date, end_date)\n",
    "    metrics_result = performance_metrics.get_performance_metrics()\n",
    "\n",
    "    # Create and return the figure for the performance chart\n",
    "\n",
    "if __name__ == '__main__':\n",
    "    app.run_server(debug=True)\n"
   ]
  },
  {
   "cell_type": "code",
   "execution_count": null,
   "id": "06880c5a",
   "metadata": {},
   "outputs": [],
   "source": []
  }
 ],
 "metadata": {
  "kernelspec": {
   "display_name": "Python 3 (ipykernel)",
   "language": "python",
   "name": "python3"
  },
  "language_info": {
   "codemirror_mode": {
    "name": "ipython",
    "version": 3
   },
   "file_extension": ".py",
   "mimetype": "text/x-python",
   "name": "python",
   "nbconvert_exporter": "python",
   "pygments_lexer": "ipython3",
   "version": "3.11.3"
  }
 },
 "nbformat": 4,
 "nbformat_minor": 5
}
